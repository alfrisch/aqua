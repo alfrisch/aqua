{
 "cells": [
  {
   "cell_type": "markdown",
   "metadata": {},
   "source": [
    "The HHL algorithm (after the author’s surnames Harrow-Hassidim-Lloyd) is a quantum algorithm to solve systems of linear equations $A \\vec{x} = \\vec{b}$. To perform this calculation quantum mechanically, we need in general 4 mainly steps requiring three qubit registers:\n",
    "<ol>\n",
    "<li>First, we have to express the vector $\\vec{b}$ as a quantum state $|b\\rangle$ on a quantum register.</li>\n",
    "<li>Now, we have to decompose $\\vec{b}$ into a superposition of eigenvectors of A remembering on the linear combination of the vector $\\vec{b}$. We achieve this using the Quantum Phase Estimation algorithm (Quantum Phase Estimation (QPE)). Since the matrix is hereby diagonalized wherefore $A$ is easily invertible.</li>\n",
    "<li>The inversion of the eigenvector base of $A$ is achieved by rotating an ancillary qubit by an angle $\\arcsin \\left( \\frac{C}{\\lambda _{\\text{i}}} \\right)$ around the y-axis where $\\lambda_{\\text{i}}$ are the eigenvalues of $A$. Now, we obtain the state $A^{-1}|b\\rangle = |x \\rangle$.</li>\n",
    "<li>We need to uncompute the register storing the eigenvalues using the inverse QPE. We measure the ancillary qubit whereby the measurement of 1 indicates that the matrix inversion was successfully. The inverse QPE leaves the system in a state proportional to the solution vector $|x\\rangle$. In many cases one is not interested in the single vector elements of $|x\\rangle$ but only on certain properties. These are accessible by applying a problem-specific operator $M$ to the state $|x\\rangle$. Another use-case of the HHL algorithm is the implementation in a larger quantum program.</li>\n",
    "</ol>\n",
    "Currently only hermitian matrices with a dimension of $2^n$ are supported.\n",
    "\n",
    "Take into account that in the general case, the entries of $\\vec{x}$ can not be efficiently read out because we would need to know all coefficients describing the quantum state.\n",
    "In the following examples, we ignore this constraint and show for our small linear system as a proof of principle that $\\vec{x}$ is calculated correctly.        \n",
    "If you want to read more about the theory of the algorithm, see \n",
    "<ul>\n",
    "<li><p>https://arxiv.org/abs/0811.3171</p></li>\n",
    "<li><p>https://arxiv.org/pdf/1302.1210.pdf</p></li>\n",
    "</ul>"
   ]
  },
  {
   "cell_type": "code",
   "execution_count": 1,
   "metadata": {},
   "outputs": [
    {
     "name": "stdout",
     "output_type": "stream",
     "text": [
      "['/home/shubha.deutschle/qiskit/qiskit-terra', '/usr/lib64/python36.zip', '/usr/lib64/python3.6', '/usr/lib64/python3.6/lib-dynload', '', '/home/shubha.deutschle/.local/lib/python3.6/site-packages', '/usr/lib64/python3.6/site-packages', '/usr/lib/python3.6/site-packages', '/home/shubha.deutschle/.local/lib/python3.6/site-packages/IPython/extensions', '/home/shubha.deutschle/.ipython']\n"
     ]
    }
   ],
   "source": [
    "import sys\n",
    "sys.path.insert(0, '/home/shubha.deutschle/qiskit/qiskit-terra')\n",
    "print(sys.path)\n",
    "from qiskit.aqua import run_algorithm"
   ]
  },
  {
   "cell_type": "code",
   "execution_count": 2,
   "metadata": {},
   "outputs": [],
   "source": [
    "import numpy as np\n",
    "from numpy.random import random\n",
    "from qiskit.aqua.input import LinearSystemInput"
   ]
  },
  {
   "cell_type": "code",
   "execution_count": 3,
   "metadata": {},
   "outputs": [],
   "source": [
    "params = {\n",
    "    'problem': {\n",
    "        'name': 'linear_system'\n",
    "    },\n",
    "    'algorithm': {\n",
    "        'name': 'HHL'\n",
    "    },\n",
    "    'eigs': {\n",
    "        'expansion_mode': 'suzuki',\n",
    "        'expansion_order': 2,\n",
    "        'name': 'EigsQPE',\n",
    "        'num_ancillae': 3,\n",
    "        'num_time_slices': 50\n",
    "    },\n",
    "    'reciprocal': {\n",
    "        'name': 'Lookup'\n",
    "    },\n",
    "    'backend': {\n",
    "        'name': 'statevector_simulator'\n",
    "    }\n",
    "}"
   ]
  },
  {
   "cell_type": "markdown",
   "metadata": {},
   "source": [
    "We show an example of solving a linear system of equations including the diagonal matrix\n",
    "$$\n",
    "M=\n",
    "\\begin{bmatrix}\n",
    "1 & 0 \\\\\n",
    "0 & 2\n",
    "\\end{bmatrix}$$ and the vector $$\\vec{b}= \\left( \\begin{array}{c}1 \\\\ 4  \\end{array} \\right)$$\n",
    "The solution which is obtained by the classical algorithm is also shown in the output. The fidelity between the solution of hhl and the classical solution depends on the equations to solve, it is also given in the output. Furthermore, the probability that HHL was running successfully, is also given in the output."
   ]
  },
  {
   "cell_type": "code",
   "execution_count": 4,
   "metadata": {},
   "outputs": [],
   "source": [
    "matrix = [[1, 0], [0, 2]]\n",
    "vector = [1, 4]\n",
    "params['input'] = {\n",
    "    'name': 'LinearSystemInput',\n",
    "    'matrix': matrix,\n",
    "    'vector': vector\n",
    "}"
   ]
  },
  {
   "cell_type": "code",
   "execution_count": 5,
   "metadata": {},
   "outputs": [
    {
     "name": "stdout",
     "output_type": "stream",
     "text": [
      "hhl solution  [1.05859322-8.38483392e-15j 1.99244701-3.15632802e-14j]\n",
      "classical solution [1.0, 2.0]\n",
      "fidelity 0.9993886637768515\n",
      "probability (0.024629684664843214+0j)\n"
     ]
    }
   ],
   "source": [
    "result = run_algorithm(params)\n",
    "print(\"hhl solution \", result['solution_hhl'])\n",
    "print(\"classical solution\", result['solution_classical'])\n",
    "fidelity_hhl_to_classical = result['fidelity_hhl_to_classical']\n",
    "print(\"fidelity\", result['fidelity_hhl_to_classical'])\n",
    "print(\"probability\", result['probability_result'])"
   ]
  },
  {
   "cell_type": "markdown",
   "metadata": {},
   "source": [
    "The above example is using the smallest possibly eigenvalue of the inserted matrix M for calculation, because we did no additional definition for the $\\text{scale}$ variable. The probabilty that hhl works successfully depends on the $\\text{scale}$ variable and increases with higher $\\text{scale}$ ($\\text{scale}$ is defined as $\\text{scale}$ $\\in [0,1]$). In the following, we define $\\text{scale}=0.5$ and show how the results are influenced thereby."
   ]
  },
  {
   "cell_type": "code",
   "execution_count": 6,
   "metadata": {},
   "outputs": [
    {
     "name": "stdout",
     "output_type": "stream",
     "text": [
      "hhl solution  [0.84663988-5.34116321e-15j 2.01762242-2.54569880e-14j]\n",
      "classical solution [1.0, 2.0]\n",
      "fidelity 0.9956053899021232\n",
      "probability (0.3614373003707364+0j)\n"
     ]
    }
   ],
   "source": [
    "params['reciprocal'] = {    \n",
    "    'scale': 0.5\n",
    "}\n",
    "result = run_algorithm(params)\n",
    "print(\"hhl solution \", result['solution_hhl'])\n",
    "print(\"classical solution\", result['solution_classical'])\n",
    "print(\"fidelity\", result['fidelity_hhl_to_classical'])\n",
    "print(\"probability\", result['probability_result'])"
   ]
  },
  {
   "cell_type": "markdown",
   "metadata": {},
   "source": [
    "Below is an example of the HHL solution coming from a non-diagonal matrix\n",
    "$$\n",
    "M=\n",
    "\\begin{bmatrix}\n",
    "1 & 3 \\\\\n",
    "3 & 2\n",
    "\\end{bmatrix}$$ and a vector $$\\vec{b}= \\left( \\begin{array}{c}1 \\\\ 1  \\end{array} \\right)$$\n"
   ]
  },
  {
   "cell_type": "code",
   "execution_count": 7,
   "metadata": {},
   "outputs": [],
   "source": [
    "matrix = [[1, 3], [3, 2]]\n",
    "vector = [1, 1]\n",
    "params['input'] = {\n",
    "    'name': 'LinearSystemInput',\n",
    "    'matrix': matrix,\n",
    "    'vector': vector\n",
    "}"
   ]
  },
  {
   "cell_type": "code",
   "execution_count": 8,
   "metadata": {},
   "outputs": [
    {
     "name": "stdout",
     "output_type": "stream",
     "text": [
      "hhl solution  [0.22147163+1.58691485e-09j 0.22033731-2.95345655e-09j]\n",
      "classical solution [0.14285714285714282, 0.28571428571428575]\n",
      "fidelity 0.8984542726848656\n",
      "probability (0.42463942048100684+0j)\n"
     ]
    }
   ],
   "source": [
    "result = run_algorithm(params)\n",
    "print(\"hhl solution \", result['solution_hhl'])\n",
    "print(\"classical solution\", result['solution_classical'])\n",
    "print(\"fidelity\", result['fidelity_hhl_to_classical'])\n",
    "print(\"probability\", result['probability_result'])"
   ]
  },
  {
   "cell_type": "markdown",
   "metadata": {},
   "source": [
    "If you want to check how many gates are allpied by HHL on the qubit which passes the most quantity of gates (circuit depth) or if you want to know how many qubits are required (circuit width), you can print it out by"
   ]
  },
  {
   "cell_type": "code",
   "execution_count": 9,
   "metadata": {},
   "outputs": [
    {
     "name": "stdout",
     "output_type": "stream",
     "text": [
      "circuit_depth 30253\n",
      "circuit_width 7\n"
     ]
    }
   ],
   "source": [
    "print(\"circuit_depth\", result['circuit_depth'])\n",
    "print(\"circuit_width\", result['circuit_width'])"
   ]
  },
  {
   "cell_type": "markdown",
   "metadata": {},
   "source": [
    "For a higher dimensional matrix, we show in the following the HHl solution of a linear equation system consisting of the 8x8 dimensional matrix\n",
    "        \n",
    "        \n",
    "$$\n",
    "M=\n",
    "\\begin{bmatrix}\n",
    "1 & 0 & 0 & 0 & 0 & 0 & 0 & 0 \\\\\n",
    "0 & 1 & 0 & 0 & 0 & 0 & 0 & 0 \\\\\n",
    "0 & 0 & 1 & 0 & 0 & 0 & 0 & 0 \\\\\n",
    "1 & 0 & 0 & 1 & 0 & 0 & 0 & 0 \\\\\n",
    "0 & 0 & 0 & 0 & 1 & 1 & 0 & 0 \\\\\n",
    "0 & 0 & 0 & 0 & 0 & 1 & 0 & 0 \\\\\n",
    "0 & 0 & 0 & 0 & 0 & 0 & 1 & 0 \\\\\n",
    "1 & 0 & 0 & 0 & 0 & 0 & 0 & 1\n",
    "\\end{bmatrix}$$ and the vector $$\\vec{b}= \\left( \\begin{array}{c}1 \\\\ 0 \\\\ 0 \\\\ 0 \\\\ 0 \\\\ 0 \\\\ 0 \\\\ 1 \\end{array} \\right)$$"
   ]
  },
  {
   "cell_type": "code",
   "execution_count": 10,
   "metadata": {},
   "outputs": [],
   "source": [
    "matrix = [[1, 0, 0, 0, 0, 0, 0, 0], [0, 1, 0, 0, 0, 0, 0, 0], [0, 0, 1, 0, 0, 0, 0, 0], [0, 0, 0, 1, 0, 0, 0, 0], [0, 0, 0, 0, 1, 1, 0, 0], [0, 0, 0, 0, 0, 1, 0, 0], [0, 0, 0, 0, 0, 0, 1, 0], [0, 0, 0, 0, 0, 0, 0, 1]]\n",
    "vector = [1, 0, 0, 0, 0, 0, 0, 1]\n",
    "params['input'] = {\n",
    "    'name': 'LinearSystemInput',\n",
    "    'matrix': matrix,\n",
    "    'vector': vector\n",
    "}"
   ]
  },
  {
   "cell_type": "code",
   "execution_count": 11,
   "metadata": {},
   "outputs": [
    {
     "name": "stdout",
     "output_type": "stream",
     "text": [
      "hhl solution  [ 1.00000000e+00+7.78812233e-14j  1.45341425e-14-3.35493895e-14j\n",
      "  0.00000000e+00+0.00000000e+00j  0.00000000e+00+0.00000000e+00j\n",
      "  0.00000000e+00+0.00000000e+00j  0.00000000e+00+0.00000000e+00j\n",
      " -5.69501095e-14+9.51316239e-15j  1.00000000e+00+5.17304025e-14j]\n",
      "classical solution [1.0, 0.0, 0.0, 0.0, 0.0, 0.0, 0.0, 1.0]\n",
      "fidelity 0.9999999999999996\n",
      "probability (0.9199443103826859+0j)\n"
     ]
    }
   ],
   "source": [
    "result = run_algorithm(params)\n",
    "print(\"hhl solution \", result['solution_hhl'])\n",
    "print(\"classical solution\", result['solution_classical'])\n",
    "print(\"fidelity\", result['fidelity_hhl_to_classical'])\n",
    "print(\"probability\", result['probability_result'])"
   ]
  },
  {
   "cell_type": "markdown",
   "metadata": {},
   "source": [
    "Now, we show the application of HHL on an arbitrary 4x4 Matrix. We fix the arbitrary matrix entries achieving reproducibility of the HHL run. We choose $$\\vec{b}= \\left( \\begin{array}{c}1 \\\\ 0 \\\\ 0 \\\\ 0 \\\\ 0 \\\\ 0 \\\\ 0 \\\\ 1 \\end{array} \\right)$$"
   ]
  },
  {
   "cell_type": "code",
   "execution_count": 12,
   "metadata": {},
   "outputs": [],
   "source": [
    "from qiskit_aqua import QuantumInstance\n",
    "#from qiskit.aqua.input.linearsysteminput import LinearSystemInput\n",
    "from qiskit.aqua.algorithms.single_sample import HHL\n",
    "from qiskit import Aer\n",
    "from qiskit.aqua.utils import random_hermitian"
   ]
  },
  {
   "cell_type": "code",
   "execution_count": 13,
   "metadata": {},
   "outputs": [],
   "source": [
    "params = {\n",
    "    \"algorithm\": {\n",
    "        \"name\": \"HHL\"\n",
    "    },\n",
    "    \"backend\": {\n",
    "        \"basis_gates\": None,\n",
    "        \"coupling_map\": None,\n",
    "        \"initial_layout\": None,\n",
    "        \"max_credits\": 10,\n",
    "        \"name\": \"statevector_simulator\",\n",
    "        \"provider\": \"qiskit.Aer\",\n",
    "        \"shots\": 10,\n",
    "        \"timeout\": None,\n",
    "        \"wait\": 5.0\n",
    "    },\n",
    "    \"eigs\": {\n",
    "        #\"evo_time\": None,\n",
    "        \"expansion_mode\": \"suzuki\",\n",
    "        \"expansion_order\": 2,\n",
    "        \"name\": \"EigsQPE\",\n",
    "        \"num_ancillae\": 5,\n",
    "        \"negative_evals\": False,\n",
    "        \"num_time_slices\": 50\n",
    "    },\n",
    "    \"initial_state\": {\n",
    "        \"name\": \"CUSTOM\",\n",
    "        \"state\": \"zero\",\n",
    "        \"state_vector\": None\n",
    "    },\n",
    "    \"iqft\": {\n",
    "        \"name\": \"STANDARD\"\n",
    "    },\n",
    "    \"problem\": {\n",
    "        \"circuit_cache_file\": None,\n",
    "        \"circuit_caching\": False,\n",
    "        \"name\": \"linear_system\",\n",
    "        \"random_seed\": None,\n",
    "        \"skip_qobj_deepcopy\": False,\n",
    "        \"skip_qobj_validation\": False\n",
    "    },\n",
    "    \"qft\": {\n",
    "        \"name\": \"STANDARD\"\n",
    "    },\n",
    "    \"reciprocal\": {\n",
    "        \"evo_time\": None,\n",
    "        \"lambda_min\": None,\n",
    "        \"name\": \"Lookup\",\n",
    "        \"pat_length\": None,\n",
    "        \"subpat_length\": None\n",
    "    }\n",
    "}"
   ]
  },
  {
   "cell_type": "code",
   "execution_count": 14,
   "metadata": {},
   "outputs": [
    {
     "name": "stderr",
     "output_type": "stream",
     "text": [
      "/home/shubha.deutschle/qiskit/qiskit-terra/qiskit/transpiler/_transpiler.py:131: DeprecationWarning: The parameter basis_gates is now a list of strings. For example, this basis ['u1','u2','u3','cx'] should be used instead of 'u1,u2,u3,cx'. The string format will be removed after 0.9\n",
      "  pass_manager=pass_manager)\n"
     ]
    },
    {
     "name": "stdout",
     "output_type": "stream",
     "text": [
      "arbitrary Matrix:\n",
      "[[1 0 0 0 0 0 0 0]\n",
      " [0 1 0 0 0 0 0 0]\n",
      " [0 0 1 0 0 0 0 0]\n",
      " [0 0 0 1 0 0 0 0]\n",
      " [0 0 0 0 1 1 0 0]\n",
      " [0 0 0 0 0 1 0 0]\n",
      " [0 0 0 0 0 0 1 0]\n",
      " [0 0 0 0 0 0 0 1]]\n",
      "hhl solution  [ 1.00000000e+00+7.78812233e-14j  1.45341425e-14-3.35493895e-14j\n",
      "  0.00000000e+00+0.00000000e+00j  0.00000000e+00+0.00000000e+00j\n",
      "  0.00000000e+00+0.00000000e+00j  0.00000000e+00+0.00000000e+00j\n",
      " -5.69501095e-14+9.51316239e-15j  1.00000000e+00+5.17304025e-14j]\n",
      "classical solution [1.0, 0.0, 0.0, 0.0, 0.0, 0.0, 0.0, 1.0]\n",
      "fidelity 0.9999999999999996\n",
      "probability (0.9199443103826859+0j)\n"
     ]
    }
   ],
   "source": [
    "#fix the arbitrary matrix with np.random.seed()\n",
    "np.random.seed(1)\n",
    "matrix = random_hermitian(4)\n",
    "vector = [1, 2, 3, 1]\n",
    "algo_input = LinearSystemInput(matrix=matrix, vector=vector)\n",
    "hhl = HHL.init_params(params, algo_input)\n",
    "qc = hhl.construct_circuit()\n",
    "backend = Aer.get_backend('statevector_simulator')\n",
    "quantum_instance = QuantumInstance(backend=backend)\n",
    "result_hhl = hhl.run(quantum_instance)\n",
    "\n",
    "#print of the arbitrary Matrix\n",
    "print(\"arbitrary Matrix:\")\n",
    "print(np.array_str(result['input_matrix']))\n",
    "\n",
    "print(\"hhl solution \", result['solution_hhl'])\n",
    "print(\"classical solution\", result['solution_classical'])\n",
    "print(\"fidelity\", result['fidelity_hhl_to_classical'])\n",
    "print(\"probability\", result['probability_result'])"
   ]
  }
 ],
 "metadata": {
  "kernelspec": {
   "display_name": "Python 3",
   "language": "python",
   "name": "python3"
  },
  "language_info": {
   "codemirror_mode": {
    "name": "ipython",
    "version": 3
   },
   "file_extension": ".py",
   "mimetype": "text/x-python",
   "name": "python",
   "nbconvert_exporter": "python",
   "pygments_lexer": "ipython3",
   "version": "3.6.6"
  }
 },
 "nbformat": 4,
 "nbformat_minor": 2
}
